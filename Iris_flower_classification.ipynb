{
 "cells": [
  {
   "cell_type": "code",
   "execution_count": 1,
<<<<<<< HEAD
   "id": "ea6a0524",
=======
   "id": "dd2c288d",
>>>>>>> 342956333c6e61be475326fbe08b0cfba8af9543
   "metadata": {},
   "outputs": [],
   "source": [
    "import numpy as np\n",
    "import pandas as pd\n",
    "import matplotlib.pyplot as plt\n",
    "%matplotlib inline"
   ]
  },
  {
   "cell_type": "code",
   "execution_count": 2,
<<<<<<< HEAD
   "id": "b776abe5",
=======
   "id": "41655da1",
>>>>>>> 342956333c6e61be475326fbe08b0cfba8af9543
   "metadata": {},
   "outputs": [],
   "source": [
    "from sklearn.datasets import load_iris\n",
    "iris = load_iris()"
   ]
  },
  {
   "cell_type": "code",
   "execution_count": 3,
<<<<<<< HEAD
   "id": "2d248c1d",
=======
   "id": "aff67fe5",
>>>>>>> 342956333c6e61be475326fbe08b0cfba8af9543
   "metadata": {},
   "outputs": [
    {
     "data": {
      "text/plain": [
       "['sepal length (cm)',\n",
       " 'sepal width (cm)',\n",
       " 'petal length (cm)',\n",
       " 'petal width (cm)']"
      ]
     },
     "execution_count": 3,
     "metadata": {},
     "output_type": "execute_result"
    }
   ],
   "source": [
    "iris.feature_names"
   ]
  },
  {
   "cell_type": "code",
   "execution_count": 4,
<<<<<<< HEAD
   "id": "309212d6",
=======
   "id": "f2c58bc3",
>>>>>>> 342956333c6e61be475326fbe08b0cfba8af9543
   "metadata": {},
   "outputs": [
    {
     "data": {
      "text/plain": [
       "array(['setosa', 'versicolor', 'virginica'], dtype='<U10')"
      ]
     },
     "execution_count": 4,
     "metadata": {},
     "output_type": "execute_result"
    }
   ],
   "source": [
    "iris.target_names"
   ]
  },
  {
   "cell_type": "code",
   "execution_count": 5,
<<<<<<< HEAD
   "id": "a47be50b",
=======
   "id": "f83c861c",
>>>>>>> 342956333c6e61be475326fbe08b0cfba8af9543
   "metadata": {},
   "outputs": [
    {
     "data": {
      "text/html": [
       "<div>\n",
       "<style scoped>\n",
       "    .dataframe tbody tr th:only-of-type {\n",
       "        vertical-align: middle;\n",
       "    }\n",
       "\n",
       "    .dataframe tbody tr th {\n",
       "        vertical-align: top;\n",
       "    }\n",
       "\n",
       "    .dataframe thead th {\n",
       "        text-align: right;\n",
       "    }\n",
       "</style>\n",
       "<table border=\"1\" class=\"dataframe\">\n",
       "  <thead>\n",
       "    <tr style=\"text-align: right;\">\n",
       "      <th></th>\n",
       "      <th>sepal length (cm)</th>\n",
       "      <th>sepal width (cm)</th>\n",
       "      <th>petal length (cm)</th>\n",
       "      <th>petal width (cm)</th>\n",
       "    </tr>\n",
       "  </thead>\n",
       "  <tbody>\n",
       "    <tr>\n",
       "      <th>0</th>\n",
       "      <td>5.1</td>\n",
       "      <td>3.5</td>\n",
       "      <td>1.4</td>\n",
       "      <td>0.2</td>\n",
       "    </tr>\n",
       "    <tr>\n",
       "      <th>1</th>\n",
       "      <td>4.9</td>\n",
       "      <td>3.0</td>\n",
       "      <td>1.4</td>\n",
       "      <td>0.2</td>\n",
       "    </tr>\n",
       "    <tr>\n",
       "      <th>2</th>\n",
       "      <td>4.7</td>\n",
       "      <td>3.2</td>\n",
       "      <td>1.3</td>\n",
       "      <td>0.2</td>\n",
       "    </tr>\n",
       "    <tr>\n",
       "      <th>3</th>\n",
       "      <td>4.6</td>\n",
       "      <td>3.1</td>\n",
       "      <td>1.5</td>\n",
       "      <td>0.2</td>\n",
       "    </tr>\n",
       "    <tr>\n",
       "      <th>4</th>\n",
       "      <td>5.0</td>\n",
       "      <td>3.6</td>\n",
       "      <td>1.4</td>\n",
       "      <td>0.2</td>\n",
       "    </tr>\n",
       "  </tbody>\n",
       "</table>\n",
       "</div>"
      ],
      "text/plain": [
       "   sepal length (cm)  sepal width (cm)  petal length (cm)  petal width (cm)\n",
       "0                5.1               3.5                1.4               0.2\n",
       "1                4.9               3.0                1.4               0.2\n",
       "2                4.7               3.2                1.3               0.2\n",
       "3                4.6               3.1                1.5               0.2\n",
       "4                5.0               3.6                1.4               0.2"
      ]
     },
     "execution_count": 5,
     "metadata": {},
     "output_type": "execute_result"
    }
   ],
   "source": [
    "df = pd.DataFrame(iris.data, columns = iris.feature_names)\n",
    "df.head()"
   ]
  },
  {
   "cell_type": "code",
   "execution_count": 6,
<<<<<<< HEAD
   "id": "d0f00992",
=======
   "id": "d8756a11",
>>>>>>> 342956333c6e61be475326fbe08b0cfba8af9543
   "metadata": {},
   "outputs": [
    {
     "data": {
      "text/html": [
       "<div>\n",
       "<style scoped>\n",
       "    .dataframe tbody tr th:only-of-type {\n",
       "        vertical-align: middle;\n",
       "    }\n",
       "\n",
       "    .dataframe tbody tr th {\n",
       "        vertical-align: top;\n",
       "    }\n",
       "\n",
       "    .dataframe thead th {\n",
       "        text-align: right;\n",
       "    }\n",
       "</style>\n",
       "<table border=\"1\" class=\"dataframe\">\n",
       "  <thead>\n",
       "    <tr style=\"text-align: right;\">\n",
       "      <th></th>\n",
       "      <th>sepal length (cm)</th>\n",
       "      <th>sepal width (cm)</th>\n",
       "      <th>petal length (cm)</th>\n",
       "      <th>petal width (cm)</th>\n",
       "      <th>target</th>\n",
       "    </tr>\n",
       "  </thead>\n",
       "  <tbody>\n",
       "    <tr>\n",
       "      <th>0</th>\n",
       "      <td>5.1</td>\n",
       "      <td>3.5</td>\n",
       "      <td>1.4</td>\n",
       "      <td>0.2</td>\n",
       "      <td>0</td>\n",
       "    </tr>\n",
       "    <tr>\n",
       "      <th>1</th>\n",
       "      <td>4.9</td>\n",
       "      <td>3.0</td>\n",
       "      <td>1.4</td>\n",
       "      <td>0.2</td>\n",
       "      <td>0</td>\n",
       "    </tr>\n",
       "    <tr>\n",
       "      <th>2</th>\n",
       "      <td>4.7</td>\n",
       "      <td>3.2</td>\n",
       "      <td>1.3</td>\n",
       "      <td>0.2</td>\n",
       "      <td>0</td>\n",
       "    </tr>\n",
       "    <tr>\n",
       "      <th>3</th>\n",
       "      <td>4.6</td>\n",
       "      <td>3.1</td>\n",
       "      <td>1.5</td>\n",
       "      <td>0.2</td>\n",
       "      <td>0</td>\n",
       "    </tr>\n",
       "    <tr>\n",
       "      <th>4</th>\n",
       "      <td>5.0</td>\n",
       "      <td>3.6</td>\n",
       "      <td>1.4</td>\n",
       "      <td>0.2</td>\n",
       "      <td>0</td>\n",
       "    </tr>\n",
       "  </tbody>\n",
       "</table>\n",
       "</div>"
      ],
      "text/plain": [
       "   sepal length (cm)  sepal width (cm)  petal length (cm)  petal width (cm)  \\\n",
       "0                5.1               3.5                1.4               0.2   \n",
       "1                4.9               3.0                1.4               0.2   \n",
       "2                4.7               3.2                1.3               0.2   \n",
       "3                4.6               3.1                1.5               0.2   \n",
       "4                5.0               3.6                1.4               0.2   \n",
       "\n",
       "   target  \n",
       "0       0  \n",
       "1       0  \n",
       "2       0  \n",
       "3       0  \n",
       "4       0  "
      ]
     },
     "execution_count": 6,
     "metadata": {},
     "output_type": "execute_result"
    }
   ],
   "source": [
    "df['target'] = iris.target\n",
    "df.head()"
   ]
  },
  {
   "cell_type": "code",
   "execution_count": 7,
<<<<<<< HEAD
   "id": "18f4432c",
=======
   "id": "4fac9d11",
>>>>>>> 342956333c6e61be475326fbe08b0cfba8af9543
   "metadata": {},
   "outputs": [
    {
     "data": {
      "text/html": [
       "<div>\n",
       "<style scoped>\n",
       "    .dataframe tbody tr th:only-of-type {\n",
       "        vertical-align: middle;\n",
       "    }\n",
       "\n",
       "    .dataframe tbody tr th {\n",
       "        vertical-align: top;\n",
       "    }\n",
       "\n",
       "    .dataframe thead th {\n",
       "        text-align: right;\n",
       "    }\n",
       "</style>\n",
       "<table border=\"1\" class=\"dataframe\">\n",
       "  <thead>\n",
       "    <tr style=\"text-align: right;\">\n",
       "      <th></th>\n",
       "      <th>sepal length (cm)</th>\n",
       "      <th>sepal width (cm)</th>\n",
       "      <th>petal length (cm)</th>\n",
       "      <th>petal width (cm)</th>\n",
       "      <th>target</th>\n",
       "    </tr>\n",
       "  </thead>\n",
       "  <tbody>\n",
       "    <tr>\n",
       "      <th>50</th>\n",
       "      <td>7.0</td>\n",
       "      <td>3.2</td>\n",
       "      <td>4.7</td>\n",
       "      <td>1.4</td>\n",
       "      <td>1</td>\n",
       "    </tr>\n",
       "    <tr>\n",
       "      <th>51</th>\n",
       "      <td>6.4</td>\n",
       "      <td>3.2</td>\n",
       "      <td>4.5</td>\n",
       "      <td>1.5</td>\n",
       "      <td>1</td>\n",
       "    </tr>\n",
       "    <tr>\n",
       "      <th>52</th>\n",
       "      <td>6.9</td>\n",
       "      <td>3.1</td>\n",
       "      <td>4.9</td>\n",
       "      <td>1.5</td>\n",
       "      <td>1</td>\n",
       "    </tr>\n",
       "    <tr>\n",
       "      <th>53</th>\n",
       "      <td>5.5</td>\n",
       "      <td>2.3</td>\n",
       "      <td>4.0</td>\n",
       "      <td>1.3</td>\n",
       "      <td>1</td>\n",
       "    </tr>\n",
       "    <tr>\n",
       "      <th>54</th>\n",
       "      <td>6.5</td>\n",
       "      <td>2.8</td>\n",
       "      <td>4.6</td>\n",
       "      <td>1.5</td>\n",
       "      <td>1</td>\n",
       "    </tr>\n",
       "  </tbody>\n",
       "</table>\n",
       "</div>"
      ],
      "text/plain": [
       "    sepal length (cm)  sepal width (cm)  petal length (cm)  petal width (cm)  \\\n",
       "50                7.0               3.2                4.7               1.4   \n",
       "51                6.4               3.2                4.5               1.5   \n",
       "52                6.9               3.1                4.9               1.5   \n",
       "53                5.5               2.3                4.0               1.3   \n",
       "54                6.5               2.8                4.6               1.5   \n",
       "\n",
       "    target  \n",
       "50       1  \n",
       "51       1  \n",
       "52       1  \n",
       "53       1  \n",
       "54       1  "
      ]
     },
     "execution_count": 7,
     "metadata": {},
     "output_type": "execute_result"
    }
   ],
   "source": [
    "df[df.target == 1].head()"
   ]
  },
  {
   "cell_type": "code",
   "execution_count": 8,
<<<<<<< HEAD
   "id": "500d3992",
=======
   "id": "da5e95c2",
>>>>>>> 342956333c6e61be475326fbe08b0cfba8af9543
   "metadata": {},
   "outputs": [
    {
     "data": {
      "text/html": [
       "<div>\n",
       "<style scoped>\n",
       "    .dataframe tbody tr th:only-of-type {\n",
       "        vertical-align: middle;\n",
       "    }\n",
       "\n",
       "    .dataframe tbody tr th {\n",
       "        vertical-align: top;\n",
       "    }\n",
       "\n",
       "    .dataframe thead th {\n",
       "        text-align: right;\n",
       "    }\n",
       "</style>\n",
       "<table border=\"1\" class=\"dataframe\">\n",
       "  <thead>\n",
       "    <tr style=\"text-align: right;\">\n",
       "      <th></th>\n",
       "      <th>sepal length (cm)</th>\n",
       "      <th>sepal width (cm)</th>\n",
       "      <th>petal length (cm)</th>\n",
       "      <th>petal width (cm)</th>\n",
       "      <th>target</th>\n",
       "    </tr>\n",
       "  </thead>\n",
       "  <tbody>\n",
       "    <tr>\n",
       "      <th>100</th>\n",
       "      <td>6.3</td>\n",
       "      <td>3.3</td>\n",
       "      <td>6.0</td>\n",
       "      <td>2.5</td>\n",
       "      <td>2</td>\n",
       "    </tr>\n",
       "    <tr>\n",
       "      <th>101</th>\n",
       "      <td>5.8</td>\n",
       "      <td>2.7</td>\n",
       "      <td>5.1</td>\n",
       "      <td>1.9</td>\n",
       "      <td>2</td>\n",
       "    </tr>\n",
       "    <tr>\n",
       "      <th>102</th>\n",
       "      <td>7.1</td>\n",
       "      <td>3.0</td>\n",
       "      <td>5.9</td>\n",
       "      <td>2.1</td>\n",
       "      <td>2</td>\n",
       "    </tr>\n",
       "    <tr>\n",
       "      <th>103</th>\n",
       "      <td>6.3</td>\n",
       "      <td>2.9</td>\n",
       "      <td>5.6</td>\n",
       "      <td>1.8</td>\n",
       "      <td>2</td>\n",
       "    </tr>\n",
       "    <tr>\n",
       "      <th>104</th>\n",
       "      <td>6.5</td>\n",
       "      <td>3.0</td>\n",
       "      <td>5.8</td>\n",
       "      <td>2.2</td>\n",
       "      <td>2</td>\n",
       "    </tr>\n",
       "  </tbody>\n",
       "</table>\n",
       "</div>"
      ],
      "text/plain": [
       "     sepal length (cm)  sepal width (cm)  petal length (cm)  petal width (cm)  \\\n",
       "100                6.3               3.3                6.0               2.5   \n",
       "101                5.8               2.7                5.1               1.9   \n",
       "102                7.1               3.0                5.9               2.1   \n",
       "103                6.3               2.9                5.6               1.8   \n",
       "104                6.5               3.0                5.8               2.2   \n",
       "\n",
       "     target  \n",
       "100       2  \n",
       "101       2  \n",
       "102       2  \n",
       "103       2  \n",
       "104       2  "
      ]
     },
     "execution_count": 8,
     "metadata": {},
     "output_type": "execute_result"
    }
   ],
   "source": [
    "df[df.target == 2].head()"
   ]
  },
  {
   "cell_type": "code",
   "execution_count": 9,
<<<<<<< HEAD
   "id": "6cc8e84a",
=======
   "id": "e94e9cb8",
>>>>>>> 342956333c6e61be475326fbe08b0cfba8af9543
   "metadata": {},
   "outputs": [
    {
     "data": {
      "text/html": [
       "<div>\n",
       "<style scoped>\n",
       "    .dataframe tbody tr th:only-of-type {\n",
       "        vertical-align: middle;\n",
       "    }\n",
       "\n",
       "    .dataframe tbody tr th {\n",
       "        vertical-align: top;\n",
       "    }\n",
       "\n",
       "    .dataframe thead th {\n",
       "        text-align: right;\n",
       "    }\n",
       "</style>\n",
       "<table border=\"1\" class=\"dataframe\">\n",
       "  <thead>\n",
       "    <tr style=\"text-align: right;\">\n",
       "      <th></th>\n",
       "      <th>sepal length (cm)</th>\n",
       "      <th>sepal width (cm)</th>\n",
       "      <th>petal length (cm)</th>\n",
       "      <th>petal width (cm)</th>\n",
       "      <th>target</th>\n",
       "      <th>flower_name</th>\n",
       "    </tr>\n",
       "  </thead>\n",
       "  <tbody>\n",
       "    <tr>\n",
       "      <th>0</th>\n",
       "      <td>5.1</td>\n",
       "      <td>3.5</td>\n",
       "      <td>1.4</td>\n",
       "      <td>0.2</td>\n",
       "      <td>0</td>\n",
       "      <td>setosa</td>\n",
       "    </tr>\n",
       "    <tr>\n",
       "      <th>1</th>\n",
       "      <td>4.9</td>\n",
       "      <td>3.0</td>\n",
       "      <td>1.4</td>\n",
       "      <td>0.2</td>\n",
       "      <td>0</td>\n",
       "      <td>setosa</td>\n",
       "    </tr>\n",
       "    <tr>\n",
       "      <th>2</th>\n",
       "      <td>4.7</td>\n",
       "      <td>3.2</td>\n",
       "      <td>1.3</td>\n",
       "      <td>0.2</td>\n",
       "      <td>0</td>\n",
       "      <td>setosa</td>\n",
       "    </tr>\n",
       "    <tr>\n",
       "      <th>3</th>\n",
       "      <td>4.6</td>\n",
       "      <td>3.1</td>\n",
       "      <td>1.5</td>\n",
       "      <td>0.2</td>\n",
       "      <td>0</td>\n",
       "      <td>setosa</td>\n",
       "    </tr>\n",
       "    <tr>\n",
       "      <th>4</th>\n",
       "      <td>5.0</td>\n",
       "      <td>3.6</td>\n",
       "      <td>1.4</td>\n",
       "      <td>0.2</td>\n",
       "      <td>0</td>\n",
       "      <td>setosa</td>\n",
       "    </tr>\n",
       "  </tbody>\n",
       "</table>\n",
       "</div>"
      ],
      "text/plain": [
       "   sepal length (cm)  sepal width (cm)  petal length (cm)  petal width (cm)  \\\n",
       "0                5.1               3.5                1.4               0.2   \n",
       "1                4.9               3.0                1.4               0.2   \n",
       "2                4.7               3.2                1.3               0.2   \n",
       "3                4.6               3.1                1.5               0.2   \n",
       "4                5.0               3.6                1.4               0.2   \n",
       "\n",
       "   target flower_name  \n",
       "0       0      setosa  \n",
       "1       0      setosa  \n",
       "2       0      setosa  \n",
       "3       0      setosa  \n",
       "4       0      setosa  "
      ]
     },
     "execution_count": 9,
     "metadata": {},
     "output_type": "execute_result"
    }
   ],
   "source": [
    "df['flower_name'] = df.target.apply(lambda x: iris.target_names[x])\n",
    "df.head()"
   ]
  },
  {
   "cell_type": "code",
   "execution_count": 10,
<<<<<<< HEAD
   "id": "429e30d2",
=======
   "id": "867ee80d",
>>>>>>> 342956333c6e61be475326fbe08b0cfba8af9543
   "metadata": {},
   "outputs": [
    {
     "data": {
      "text/html": [
       "<div>\n",
       "<style scoped>\n",
       "    .dataframe tbody tr th:only-of-type {\n",
       "        vertical-align: middle;\n",
       "    }\n",
       "\n",
       "    .dataframe tbody tr th {\n",
       "        vertical-align: top;\n",
       "    }\n",
       "\n",
       "    .dataframe thead th {\n",
       "        text-align: right;\n",
       "    }\n",
       "</style>\n",
       "<table border=\"1\" class=\"dataframe\">\n",
       "  <thead>\n",
       "    <tr style=\"text-align: right;\">\n",
       "      <th></th>\n",
       "      <th>sepal length (cm)</th>\n",
       "      <th>sepal width (cm)</th>\n",
       "      <th>petal length (cm)</th>\n",
       "      <th>petal width (cm)</th>\n",
       "      <th>target</th>\n",
       "      <th>flower_name</th>\n",
       "    </tr>\n",
       "  </thead>\n",
       "  <tbody>\n",
       "    <tr>\n",
       "      <th>45</th>\n",
       "      <td>4.8</td>\n",
       "      <td>3.0</td>\n",
       "      <td>1.4</td>\n",
       "      <td>0.3</td>\n",
       "      <td>0</td>\n",
       "      <td>setosa</td>\n",
       "    </tr>\n",
       "    <tr>\n",
       "      <th>46</th>\n",
       "      <td>5.1</td>\n",
       "      <td>3.8</td>\n",
       "      <td>1.6</td>\n",
       "      <td>0.2</td>\n",
       "      <td>0</td>\n",
       "      <td>setosa</td>\n",
       "    </tr>\n",
       "    <tr>\n",
       "      <th>47</th>\n",
       "      <td>4.6</td>\n",
       "      <td>3.2</td>\n",
       "      <td>1.4</td>\n",
       "      <td>0.2</td>\n",
       "      <td>0</td>\n",
       "      <td>setosa</td>\n",
       "    </tr>\n",
       "    <tr>\n",
       "      <th>48</th>\n",
       "      <td>5.3</td>\n",
       "      <td>3.7</td>\n",
       "      <td>1.5</td>\n",
       "      <td>0.2</td>\n",
       "      <td>0</td>\n",
       "      <td>setosa</td>\n",
       "    </tr>\n",
       "    <tr>\n",
       "      <th>49</th>\n",
       "      <td>5.0</td>\n",
       "      <td>3.3</td>\n",
       "      <td>1.4</td>\n",
       "      <td>0.2</td>\n",
       "      <td>0</td>\n",
       "      <td>setosa</td>\n",
       "    </tr>\n",
       "    <tr>\n",
       "      <th>50</th>\n",
       "      <td>7.0</td>\n",
       "      <td>3.2</td>\n",
       "      <td>4.7</td>\n",
       "      <td>1.4</td>\n",
       "      <td>1</td>\n",
       "      <td>versicolor</td>\n",
       "    </tr>\n",
       "    <tr>\n",
       "      <th>51</th>\n",
       "      <td>6.4</td>\n",
       "      <td>3.2</td>\n",
       "      <td>4.5</td>\n",
       "      <td>1.5</td>\n",
       "      <td>1</td>\n",
       "      <td>versicolor</td>\n",
       "    </tr>\n",
       "    <tr>\n",
       "      <th>52</th>\n",
       "      <td>6.9</td>\n",
       "      <td>3.1</td>\n",
       "      <td>4.9</td>\n",
       "      <td>1.5</td>\n",
       "      <td>1</td>\n",
       "      <td>versicolor</td>\n",
       "    </tr>\n",
       "    <tr>\n",
       "      <th>53</th>\n",
       "      <td>5.5</td>\n",
       "      <td>2.3</td>\n",
       "      <td>4.0</td>\n",
       "      <td>1.3</td>\n",
       "      <td>1</td>\n",
       "      <td>versicolor</td>\n",
       "    </tr>\n",
       "    <tr>\n",
       "      <th>54</th>\n",
       "      <td>6.5</td>\n",
       "      <td>2.8</td>\n",
       "      <td>4.6</td>\n",
       "      <td>1.5</td>\n",
       "      <td>1</td>\n",
       "      <td>versicolor</td>\n",
       "    </tr>\n",
       "  </tbody>\n",
       "</table>\n",
       "</div>"
      ],
      "text/plain": [
       "    sepal length (cm)  sepal width (cm)  petal length (cm)  petal width (cm)  \\\n",
       "45                4.8               3.0                1.4               0.3   \n",
       "46                5.1               3.8                1.6               0.2   \n",
       "47                4.6               3.2                1.4               0.2   \n",
       "48                5.3               3.7                1.5               0.2   \n",
       "49                5.0               3.3                1.4               0.2   \n",
       "50                7.0               3.2                4.7               1.4   \n",
       "51                6.4               3.2                4.5               1.5   \n",
       "52                6.9               3.1                4.9               1.5   \n",
       "53                5.5               2.3                4.0               1.3   \n",
       "54                6.5               2.8                4.6               1.5   \n",
       "\n",
       "    target flower_name  \n",
       "45       0      setosa  \n",
       "46       0      setosa  \n",
       "47       0      setosa  \n",
       "48       0      setosa  \n",
       "49       0      setosa  \n",
       "50       1  versicolor  \n",
       "51       1  versicolor  \n",
       "52       1  versicolor  \n",
       "53       1  versicolor  \n",
       "54       1  versicolor  "
      ]
     },
     "execution_count": 10,
     "metadata": {},
     "output_type": "execute_result"
    }
   ],
   "source": [
    "df[45:55]"
   ]
  },
  {
   "cell_type": "code",
   "execution_count": 11,
<<<<<<< HEAD
   "id": "4bd028ad",
=======
   "id": "4cdc1ae9",
>>>>>>> 342956333c6e61be475326fbe08b0cfba8af9543
   "metadata": {},
   "outputs": [],
   "source": [
    "df0 = df[:50]\n",
    "df1 = df[50:100]\n",
    "df2 = df[100:]"
   ]
  },
  {
   "cell_type": "code",
   "execution_count": 12,
<<<<<<< HEAD
   "id": "77f8e2cb",
=======
   "id": "e725bd4b",
>>>>>>> 342956333c6e61be475326fbe08b0cfba8af9543
   "metadata": {},
   "outputs": [
    {
     "data": {
      "text/plain": [
       "<matplotlib.collections.PathCollection at 0x2b269c4dbd0>"
      ]
     },
     "execution_count": 12,
     "metadata": {},
     "output_type": "execute_result"
    },
    {
     "data": {
      "image/png": "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\n",
      "text/plain": [
       "<Figure size 640x480 with 1 Axes>"
      ]
     },
     "metadata": {},
     "output_type": "display_data"
    }
   ],
   "source": [
    "plt.xlabel('Sepal Length')\n",
    "plt.ylabel('Sepal Width')\n",
    "plt.scatter(df0['sepal length (cm)'], df0['sepal width (cm)'], color='green', marker='+')\n",
    "plt.scatter(df1['sepal length (cm)'], df1['sepal width (cm)'], color='blue', marker='.')\n",
    "plt.scatter(df2['sepal length (cm)'], df2['sepal width (cm)'], color='red', marker='*')"
   ]
  },
  {
   "cell_type": "code",
   "execution_count": 13,
<<<<<<< HEAD
   "id": "07b72ccb",
=======
   "id": "42f88597",
>>>>>>> 342956333c6e61be475326fbe08b0cfba8af9543
   "metadata": {},
   "outputs": [
    {
     "data": {
      "text/plain": [
       "<matplotlib.collections.PathCollection at 0x2b269c83ed0>"
      ]
     },
     "execution_count": 13,
     "metadata": {},
     "output_type": "execute_result"
    },
    {
     "data": {
      "image/png": "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\n",
      "text/plain": [
       "<Figure size 640x480 with 1 Axes>"
      ]
     },
     "metadata": {},
     "output_type": "display_data"
    }
   ],
   "source": [
    "plt.xlabel('Petal Length')\n",
    "plt.ylabel('Petal Width')\n",
    "plt.scatter(df0['petal length (cm)'], df0['petal width (cm)'], color='green', marker='+')\n",
    "plt.scatter(df1['petal length (cm)'], df1['petal width (cm)'], color='blue', marker='.')\n",
    "plt.scatter(df2['petal length (cm)'], df2['petal width (cm)'], color='red', marker='*')"
   ]
  },
  {
   "cell_type": "markdown",
<<<<<<< HEAD
   "id": "11416eaf",
=======
   "id": "d88cac54",
>>>>>>> 342956333c6e61be475326fbe08b0cfba8af9543
   "metadata": {},
   "source": [
    "# Train using Support Vector Machine"
   ]
  },
  {
   "cell_type": "code",
   "execution_count": 14,
<<<<<<< HEAD
   "id": "b8451216",
=======
   "id": "01af9cc2",
>>>>>>> 342956333c6e61be475326fbe08b0cfba8af9543
   "metadata": {},
   "outputs": [],
   "source": [
    "from sklearn.model_selection import train_test_split"
   ]
  },
  {
   "cell_type": "code",
   "execution_count": 15,
<<<<<<< HEAD
   "id": "caf2debc",
=======
   "id": "e557e93f",
>>>>>>> 342956333c6e61be475326fbe08b0cfba8af9543
   "metadata": {},
   "outputs": [],
   "source": [
    "x = df.drop(['target', 'flower_name'], axis='columns')\n",
    "y = df.target"
   ]
  },
  {
   "cell_type": "code",
   "execution_count": 16,
<<<<<<< HEAD
   "id": "711b14d6",
=======
   "id": "4bda27a2",
>>>>>>> 342956333c6e61be475326fbe08b0cfba8af9543
   "metadata": {},
   "outputs": [],
   "source": [
    "x_train, x_test, y_train, y_test = train_test_split(x,y, test_size=0.2)"
   ]
  },
  {
   "cell_type": "code",
   "execution_count": 17,
<<<<<<< HEAD
   "id": "055ce2a0",
=======
   "id": "378d0d8b",
>>>>>>> 342956333c6e61be475326fbe08b0cfba8af9543
   "metadata": {},
   "outputs": [
    {
     "data": {
      "text/plain": [
       "120"
      ]
     },
     "execution_count": 17,
     "metadata": {},
     "output_type": "execute_result"
    }
   ],
   "source": [
    "len(x_train)"
   ]
  },
  {
   "cell_type": "code",
   "execution_count": 18,
<<<<<<< HEAD
   "id": "b9e196fd",
=======
   "id": "9c5fac54",
>>>>>>> 342956333c6e61be475326fbe08b0cfba8af9543
   "metadata": {},
   "outputs": [
    {
     "data": {
      "text/plain": [
       "30"
      ]
     },
     "execution_count": 18,
     "metadata": {},
     "output_type": "execute_result"
    }
   ],
   "source": [
    "len(x_test)"
   ]
  },
  {
   "cell_type": "code",
   "execution_count": 19,
<<<<<<< HEAD
   "id": "7c015679",
=======
   "id": "f73208dd",
>>>>>>> 342956333c6e61be475326fbe08b0cfba8af9543
   "metadata": {},
   "outputs": [],
   "source": [
    "from sklearn.svm import SVC\n",
    "model = SVC()"
   ]
  },
  {
   "cell_type": "code",
   "execution_count": 20,
<<<<<<< HEAD
   "id": "acb05d0d",
=======
   "id": "aefc9517",
>>>>>>> 342956333c6e61be475326fbe08b0cfba8af9543
   "metadata": {},
   "outputs": [
    {
     "data": {
      "text/html": [
       "<style>#sk-container-id-1 {color: black;background-color: white;}#sk-container-id-1 pre{padding: 0;}#sk-container-id-1 div.sk-toggleable {background-color: white;}#sk-container-id-1 label.sk-toggleable__label {cursor: pointer;display: block;width: 100%;margin-bottom: 0;padding: 0.3em;box-sizing: border-box;text-align: center;}#sk-container-id-1 label.sk-toggleable__label-arrow:before {content: \"▸\";float: left;margin-right: 0.25em;color: #696969;}#sk-container-id-1 label.sk-toggleable__label-arrow:hover:before {color: black;}#sk-container-id-1 div.sk-estimator:hover label.sk-toggleable__label-arrow:before {color: black;}#sk-container-id-1 div.sk-toggleable__content {max-height: 0;max-width: 0;overflow: hidden;text-align: left;background-color: #f0f8ff;}#sk-container-id-1 div.sk-toggleable__content pre {margin: 0.2em;color: black;border-radius: 0.25em;background-color: #f0f8ff;}#sk-container-id-1 input.sk-toggleable__control:checked~div.sk-toggleable__content {max-height: 200px;max-width: 100%;overflow: auto;}#sk-container-id-1 input.sk-toggleable__control:checked~label.sk-toggleable__label-arrow:before {content: \"▾\";}#sk-container-id-1 div.sk-estimator input.sk-toggleable__control:checked~label.sk-toggleable__label {background-color: #d4ebff;}#sk-container-id-1 div.sk-label input.sk-toggleable__control:checked~label.sk-toggleable__label {background-color: #d4ebff;}#sk-container-id-1 input.sk-hidden--visually {border: 0;clip: rect(1px 1px 1px 1px);clip: rect(1px, 1px, 1px, 1px);height: 1px;margin: -1px;overflow: hidden;padding: 0;position: absolute;width: 1px;}#sk-container-id-1 div.sk-estimator {font-family: monospace;background-color: #f0f8ff;border: 1px dotted black;border-radius: 0.25em;box-sizing: border-box;margin-bottom: 0.5em;}#sk-container-id-1 div.sk-estimator:hover {background-color: #d4ebff;}#sk-container-id-1 div.sk-parallel-item::after {content: \"\";width: 100%;border-bottom: 1px solid gray;flex-grow: 1;}#sk-container-id-1 div.sk-label:hover label.sk-toggleable__label {background-color: #d4ebff;}#sk-container-id-1 div.sk-serial::before {content: \"\";position: absolute;border-left: 1px solid gray;box-sizing: border-box;top: 0;bottom: 0;left: 50%;z-index: 0;}#sk-container-id-1 div.sk-serial {display: flex;flex-direction: column;align-items: center;background-color: white;padding-right: 0.2em;padding-left: 0.2em;position: relative;}#sk-container-id-1 div.sk-item {position: relative;z-index: 1;}#sk-container-id-1 div.sk-parallel {display: flex;align-items: stretch;justify-content: center;background-color: white;position: relative;}#sk-container-id-1 div.sk-item::before, #sk-container-id-1 div.sk-parallel-item::before {content: \"\";position: absolute;border-left: 1px solid gray;box-sizing: border-box;top: 0;bottom: 0;left: 50%;z-index: -1;}#sk-container-id-1 div.sk-parallel-item {display: flex;flex-direction: column;z-index: 1;position: relative;background-color: white;}#sk-container-id-1 div.sk-parallel-item:first-child::after {align-self: flex-end;width: 50%;}#sk-container-id-1 div.sk-parallel-item:last-child::after {align-self: flex-start;width: 50%;}#sk-container-id-1 div.sk-parallel-item:only-child::after {width: 0;}#sk-container-id-1 div.sk-dashed-wrapped {border: 1px dashed gray;margin: 0 0.4em 0.5em 0.4em;box-sizing: border-box;padding-bottom: 0.4em;background-color: white;}#sk-container-id-1 div.sk-label label {font-family: monospace;font-weight: bold;display: inline-block;line-height: 1.2em;}#sk-container-id-1 div.sk-label-container {text-align: center;}#sk-container-id-1 div.sk-container {/* jupyter's `normalize.less` sets `[hidden] { display: none; }` but bootstrap.min.css set `[hidden] { display: none !important; }` so we also need the `!important` here to be able to override the default hidden behavior on the sphinx rendered scikit-learn.org. See: https://github.com/scikit-learn/scikit-learn/issues/21755 */display: inline-block !important;position: relative;}#sk-container-id-1 div.sk-text-repr-fallback {display: none;}</style><div id=\"sk-container-id-1\" class=\"sk-top-container\"><div class=\"sk-text-repr-fallback\"><pre>SVC()</pre><b>In a Jupyter environment, please rerun this cell to show the HTML representation or trust the notebook. <br />On GitHub, the HTML representation is unable to render, please try loading this page with nbviewer.org.</b></div><div class=\"sk-container\" hidden><div class=\"sk-item\"><div class=\"sk-estimator sk-toggleable\"><input class=\"sk-toggleable__control sk-hidden--visually\" id=\"sk-estimator-id-1\" type=\"checkbox\" checked><label for=\"sk-estimator-id-1\" class=\"sk-toggleable__label sk-toggleable__label-arrow\">SVC</label><div class=\"sk-toggleable__content\"><pre>SVC()</pre></div></div></div></div></div>"
      ],
      "text/plain": [
       "SVC()"
      ]
     },
     "execution_count": 20,
     "metadata": {},
     "output_type": "execute_result"
    }
   ],
   "source": [
    "model.fit(x_train, y_train)"
   ]
  },
  {
   "cell_type": "code",
   "execution_count": 21,
<<<<<<< HEAD
   "id": "968be44e",
=======
   "id": "ea676ce1",
>>>>>>> 342956333c6e61be475326fbe08b0cfba8af9543
   "metadata": {},
   "outputs": [
    {
     "data": {
      "text/plain": [
       "0.9333333333333333"
      ]
     },
     "execution_count": 21,
     "metadata": {},
     "output_type": "execute_result"
    }
   ],
   "source": [
    "model.score(x_test, y_test)"
   ]
  },
  {
   "cell_type": "code",
   "execution_count": 22,
<<<<<<< HEAD
   "id": "ac0eeeca",
=======
   "id": "4925ce2a",
>>>>>>> 342956333c6e61be475326fbe08b0cfba8af9543
   "metadata": {},
   "outputs": [
    {
     "name": "stderr",
     "output_type": "stream",
     "text": [
      "C:\\Users\\mansh\\AppData\\Local\\Programs\\Python\\Python311\\Lib\\site-packages\\sklearn\\base.py:439: UserWarning: X does not have valid feature names, but SVC was fitted with feature names\n",
      "  warnings.warn(\n"
     ]
    },
    {
     "data": {
      "text/plain": [
       "array([0])"
      ]
     },
     "execution_count": 22,
     "metadata": {},
     "output_type": "execute_result"
    }
   ],
   "source": [
    "model.predict([[4.8, 3.0, 1.5, 0.3]])"
   ]
  },
  {
   "cell_type": "markdown",
<<<<<<< HEAD
   "id": "13fc5954",
=======
   "id": "0c933631",
>>>>>>> 342956333c6e61be475326fbe08b0cfba8af9543
   "metadata": {},
   "source": [
    "Clearly this show that the predicted flower is setosa as 0 represents setosa"
   ]
  }
 ],
 "metadata": {
  "kernelspec": {
   "display_name": "Python 3 (ipykernel)",
   "language": "python",
   "name": "python3"
  },
  "language_info": {
   "codemirror_mode": {
    "name": "ipython",
    "version": 3
   },
   "file_extension": ".py",
   "mimetype": "text/x-python",
   "name": "python",
   "nbconvert_exporter": "python",
   "pygments_lexer": "ipython3",
   "version": "3.11.0"
  }
 },
 "nbformat": 4,
 "nbformat_minor": 5
}
